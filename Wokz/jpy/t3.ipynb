{
 "cells": [
  {
   "cell_type": "code",
   "execution_count": 2,
   "metadata": {},
   "outputs": [
    {
     "name": "stdout",
     "output_type": "stream",
     "text": [
      "\n",
      "Set_1 is printing the unique items only{1, 2, 3, 4, 5, 100}\n",
      "Type of the data structure <class 'set'>\n",
      "Length of the data structure 6\n",
      "\n",
      "\n",
      "Type of var <class 'list'>\n",
      "Print lis_1 [1, 2, 3, 4, 5, 5, 5, 5, 5] which is of length = 9\n",
      "---\n",
      "Now converting the lis_1 to set \n",
      "Type of var <class 'set'>\n",
      "Print lis_1 {1, 2, 3, 4, 5} which is of length = 5\n",
      "\n",
      "\n"
     ]
    }
   ],
   "source": [
    "# Testing out \n",
    "# Sets\n",
    "# \n",
    "set_1 = {\n",
    "    1,\n",
    "    2,\n",
    "    3,\n",
    "    4,\n",
    "    5,\n",
    "    4,\n",
    "    5\n",
    "}\n",
    "\n",
    "set_1.add(100)\n",
    "\n",
    "\n",
    "# Duplicates are not printed\n",
    "print(f\"\"\"\n",
    "Set_1 is printing the unique items only{set_1}\n",
    "Type of the data structure {type(set_1)}\n",
    "Length of the data structure {len(set_1)}\n",
    "\"\"\")\n",
    "\n",
    "# Set conversion - from list to set \n",
    "\n",
    "lis_1 = [\n",
    "    1,2,3,4,5,5,5,5,5\n",
    "]\n",
    "# Convert the list to set\n",
    "lis1_set= set(lis_1)\n",
    "\n",
    "print(f\"\"\"\n",
    "Type of var {type(lis_1)}\n",
    "Print lis_1 {lis_1} which is of length = {len(lis_1)}\n",
    "---\n",
    "Now converting the lis_1 to set \n",
    "Type of var {type(lis1_set)}\n",
    "Print lis_1 {lis1_set} which is of length = {len(lis1_set)}\n",
    "\n",
    "\"\"\")"
   ]
  }
 ],
 "metadata": {
  "kernelspec": {
   "display_name": "Python 3",
   "language": "python",
   "name": "python3"
  },
  "language_info": {
   "codemirror_mode": {
    "name": "ipython",
    "version": 3
   },
   "file_extension": ".py",
   "mimetype": "text/x-python",
   "name": "python",
   "nbconvert_exporter": "python",
   "pygments_lexer": "ipython3",
   "version": "3.12.0"
  }
 },
 "nbformat": 4,
 "nbformat_minor": 2
}
